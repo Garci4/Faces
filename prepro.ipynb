{
 "cells": [
  {
   "cell_type": "code",
   "execution_count": 66,
   "id": "42c4876e",
   "metadata": {},
   "outputs": [],
   "source": [
    "import numpy as np\n",
    "import matplotlib.pyplot as plt\n",
    "import os\n",
    "import cv2\n",
    "import sys\n",
    "import PIL\n",
    "from keras.preprocessing.image import ImageDataGenerator\n",
    "from keras.preprocessing.image import img_to_array\n",
    "from keras.preprocessing.image import load_img\n",
    "\n",
    "DIRDATA = \"./todaslascaras\"\n",
    "#CATEGORIES = [\"anger\", \"disgust\"]\n",
    "CATEGORIES = [\"anger\", \"disgust\", \"fear\", \"happy\", \"joy\", \"kiss\", \"neutral\", \"sadness\", \"surprise\"]\n",
    "ANGER = [\"anger\"]\n",
    "OBJECTIVEDATA = \"./todaslascaras/augmentation\"\n",
    "\n"
   ]
  },
  {
   "cell_type": "markdown",
   "id": "9889a465",
   "metadata": {},
   "source": [
    "Primero espejo todas las imagenes de todas las clases"
   ]
  },
  {
   "cell_type": "code",
   "execution_count": 116,
   "id": "b3787394",
   "metadata": {},
   "outputs": [],
   "source": [
    "#Con esto leo la imagen y la devuelvo en el color que me indican\n",
    "def leer_imagen(img_path, gray_scale=False):\n",
    "    image_src = cv2.imread(img_path)\n",
    "    if gray_scale:\n",
    "        image_rgb = cv2.cvtColor(image_src, cv2.COLOR_BGR2GRAY)\n",
    "    else:\n",
    "        image_rgb = cv2.cvtColor(image_src, cv2.COLOR_BGR2RGB)\n",
    "    return image_rgb\n",
    "\n",
    "#Este metodo espeja una imagen que viene por parametro y la devuelve\n",
    "def espejar_imagen(img_path, gris=False):\n",
    "    img = leer_imagen(img_path, gris)\n",
    "    img_mirrored = np.fliplr(img)\n",
    "    return img_mirrored\n"
   ]
  },
  {
   "cell_type": "code",
   "execution_count": 119,
   "id": "9f4a1f3b",
   "metadata": {},
   "outputs": [],
   "source": [
    "def guardar_imagen(img, name, where):\n",
    "    cv2.imwrite(where + '/' + name, img)\n",
    "\n",
    "def espejar_todo():\n",
    "    for category in CATEGORIES:\n",
    "        path = os.path.join(DIRDATA, category)\n",
    "        for img in os.listdir(path):\n",
    "            mirrored_img = espejar_imagen(path+'/'+img, gris = True)\n",
    "            guardar_imagen(mirrored_img, img + '_mirrored.jpg', where = DIRDATA +'/'+category)\n"
   ]
  },
  {
   "cell_type": "code",
   "execution_count": 120,
   "id": "453c1df7",
   "metadata": {},
   "outputs": [],
   "source": [
    "espejar_todo()"
   ]
  },
  {
   "cell_type": "code",
   "execution_count": 121,
   "id": "d5959d17",
   "metadata": {},
   "outputs": [],
   "source": [
    "def detectar_y_guardar_cara(path, savePath, category):\n",
    "    for img in os.listdir(path):\n",
    "        image = cv2.imread(path+'/'+img)\n",
    "        gray = cv2.cvtColor(image, cv2.COLOR_BGR2GRAY)\n",
    "        faceCascade = cv2.CascadeClassifier(cv2.data.haarcascades + \"haarcascade_frontalface_default.xml\")\n",
    "        faces = faceCascade.detectMultiScale(\n",
    "            gray,\n",
    "            scaleFactor=1.3,\n",
    "            minNeighbors=3,\n",
    "            minSize=(30, 30)\n",
    "        )\n",
    "        for (x, y, w, h) in faces:\n",
    "            cv2.rectangle(image, (x, y), (x + w, y + h), (0, 255, 0), 2)\n",
    "            roi_color = image[y:y + h, x:x + w]\n",
    "            cv2.imwrite(savePath + '/' + category +  str(w) + str(h) + '_faces.jpg', roi_color)\n"
   ]
  },
  {
   "cell_type": "code",
   "execution_count": 122,
   "id": "25e5c435",
   "metadata": {},
   "outputs": [],
   "source": [
    "rotate_gen = ImageDataGenerator(rotation_range=22)\n",
    "def rotar_y_guardar(cantidadImagenes, path, category):\n",
    "    for img in os.listdir(path):\n",
    "            i = load_img(OBJECTIVEDATA+'/'+category+'/'+img, color_mode=\"grayscale\", target_size=(120,120))\n",
    "            i = img_to_array(i)\n",
    "            i = np.expand_dims(i, axis=0)\n",
    "            PREFIX = category\n",
    "            imGen = rotate_gen.flow(i, batch_size=1, save_to_dir=OBJECTIVEDATA+'/'+category, save_prefix=PREFIX, save_format='jpg')\n",
    "            for x in range(cantidadImagenes):\n",
    "                batch = imGen.next()"
   ]
  },
  {
   "cell_type": "code",
   "execution_count": 123,
   "id": "e61e7014",
   "metadata": {},
   "outputs": [],
   "source": [
    "def generar_imagenes():\n",
    "    for category in CATEGORIES:\n",
    "        path = os.path.join(DIRDATA, category)\n",
    "        detectar_y_guardar_cara(path, OBJECTIVEDATA+'/'+category, category)\n",
    "\n"
   ]
  },
  {
   "cell_type": "code",
   "execution_count": 124,
   "id": "5e46c67f",
   "metadata": {},
   "outputs": [],
   "source": [
    "def rotar_caras():\n",
    "    for category in CATEGORIES:\n",
    "        path = os.path.join(DIRDATA, category)\n",
    "        rotar_y_guardar(6, OBJECTIVEDATA+'/'+category, category)"
   ]
  },
  {
   "cell_type": "code",
   "execution_count": 125,
   "id": "3b48a3d9",
   "metadata": {
    "scrolled": false
   },
   "outputs": [],
   "source": [
    "generar_imagenes()"
   ]
  },
  {
   "cell_type": "code",
   "execution_count": 126,
   "id": "45257fc3",
   "metadata": {},
   "outputs": [],
   "source": [
    "rotar_caras()"
   ]
  },
  {
   "cell_type": "code",
   "execution_count": null,
   "id": "267b5378",
   "metadata": {},
   "outputs": [],
   "source": []
  }
 ],
 "metadata": {
  "kernelspec": {
   "display_name": "Python 3 (ipykernel)",
   "language": "python",
   "name": "python3"
  },
  "language_info": {
   "codemirror_mode": {
    "name": "ipython",
    "version": 3
   },
   "file_extension": ".py",
   "mimetype": "text/x-python",
   "name": "python",
   "nbconvert_exporter": "python",
   "pygments_lexer": "ipython3",
   "version": "3.8.10"
  }
 },
 "nbformat": 4,
 "nbformat_minor": 5
}
