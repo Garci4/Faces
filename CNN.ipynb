{
 "cells": [
  {
   "cell_type": "code",
   "execution_count": 12,
   "id": "cb246bf5",
   "metadata": {},
   "outputs": [
    {
     "name": "stdout",
     "output_type": "stream",
     "text": [
      "Epoch 1/10\n",
      "16/16 [==============================] - 5s 257ms/step - loss: 0.0000e+00 - accuracy: 0.0992 - val_loss: 0.0000e+00 - val_accuracy: 0.1429\n",
      "Epoch 2/10\n",
      "16/16 [==============================] - 4s 249ms/step - loss: 0.0000e+00 - accuracy: 0.0992 - val_loss: 0.0000e+00 - val_accuracy: 0.1429\n",
      "Epoch 3/10\n",
      "16/16 [==============================] - 5s 288ms/step - loss: 0.0000e+00 - accuracy: 0.0992 - val_loss: 0.0000e+00 - val_accuracy: 0.1429\n",
      "Epoch 4/10\n",
      "16/16 [==============================] - 4s 246ms/step - loss: 0.0000e+00 - accuracy: 0.0992 - val_loss: 0.0000e+00 - val_accuracy: 0.1429\n",
      "Epoch 5/10\n",
      "16/16 [==============================] - 4s 263ms/step - loss: 0.0000e+00 - accuracy: 0.0992 - val_loss: 0.0000e+00 - val_accuracy: 0.1429\n",
      "Epoch 6/10\n",
      "16/16 [==============================] - 4s 242ms/step - loss: 0.0000e+00 - accuracy: 0.0992 - val_loss: 0.0000e+00 - val_accuracy: 0.1429\n",
      "Epoch 7/10\n",
      "16/16 [==============================] - 4s 233ms/step - loss: 0.0000e+00 - accuracy: 0.0992 - val_loss: 0.0000e+00 - val_accuracy: 0.1429\n",
      "Epoch 8/10\n",
      "16/16 [==============================] - 4s 237ms/step - loss: 0.0000e+00 - accuracy: 0.0992 - val_loss: 0.0000e+00 - val_accuracy: 0.1429\n",
      "Epoch 9/10\n",
      "16/16 [==============================] - 4s 232ms/step - loss: 0.0000e+00 - accuracy: 0.0992 - val_loss: 0.0000e+00 - val_accuracy: 0.1429\n",
      "Epoch 10/10\n",
      "16/16 [==============================] - 4s 234ms/step - loss: 0.0000e+00 - accuracy: 0.0992 - val_loss: 0.0000e+00 - val_accuracy: 0.1429\n"
     ]
    },
    {
     "data": {
      "text/plain": [
       "<keras.callbacks.History at 0x7f16848e1d00>"
      ]
     },
     "execution_count": 12,
     "metadata": {},
     "output_type": "execute_result"
    }
   ],
   "source": [
    "import tensorflow as tf\n",
    "from tensorflow.keras.models import Sequential\n",
    "from tensorflow.keras.layers import Dense, Dropout, Activation, Flatten, Conv2D, MaxPooling2D\n",
    "import pickle\n",
    "from tensorflow.keras.callbacks import TensorBoard\n",
    "import time\n",
    "\n",
    "NAME = \"Faces-cnn-64x2-32x1-{}\".format(int(time.time()))\n",
    "\n",
    "TENSORBOARD = TensorBoard(log_dir='logs/{}'.format(NAME))\n",
    "\n",
    "# Traigo los datos que estan en 3rd aproach\n",
    "X = pickle.load(open(\"X.pickle\", \"rb\"))\n",
    "Y = pickle.load(open(\"Y.pickle\", \"rb\"))\n",
    "\n",
    "X = X/255.0\n",
    "\n",
    "model = Sequential()\n",
    "model.add(Conv2D(64,  (3,3), input_shape = X.shape[1:])) #[1:] es para eliminar el -1 que esta en el arreglo\n",
    "model.add(Activation(\"relu\"))\n",
    "model.add(MaxPooling2D(pool_size = (2,2)))       \n",
    "          \n",
    "model.add(Conv2D(64,  (3,3))) #[1:] es para eliminar el -1 que esta en el arreglo\n",
    "model.add(Activation(\"relu\"))\n",
    "model.add(MaxPooling2D(pool_size = (2,2)))     \n",
    "\n",
    "model.add(Conv2D(32,  (3,3))) #[1:] es para eliminar el -1 que esta en el arreglo\n",
    "model.add(Activation(\"relu\"))\n",
    "model.add(MaxPooling2D(pool_size = (2,2)))    \n",
    "\n",
    "model.add(Flatten())\n",
    "model.add(Dense(64))\n",
    "\n",
    "model.add(Dense(1))\n",
    "model.add(Activation(\"sigmoid\"))\n",
    "\n",
    "model.compile(loss=\"categorical_crossentropy\",\n",
    "                         optimizer=\"adam\",\n",
    "                         metrics=[\"accuracy\"])\n",
    "\n",
    "model.fit(X, Y, batch_size=16, epochs=10, validation_split=0.3, callbacks=[TENSORBOARD])"
   ]
  },
  {
   "cell_type": "code",
   "execution_count": 8,
   "id": "b31808aa",
   "metadata": {},
   "outputs": [
    {
     "name": "stdout",
     "output_type": "stream",
     "text": [
      "Model: \"sequential_5\"\n",
      "_________________________________________________________________\n",
      " Layer (type)                Output Shape              Param #   \n",
      "=================================================================\n",
      " conv2d_11 (Conv2D)          (None, 118, 118, 64)      640       \n",
      "                                                                 \n",
      " activation_16 (Activation)  (None, 118, 118, 64)      0         \n",
      "                                                                 \n",
      " max_pooling2d_11 (MaxPoolin  (None, 59, 59, 64)       0         \n",
      " g2D)                                                            \n",
      "                                                                 \n",
      " conv2d_12 (Conv2D)          (None, 57, 57, 64)        36928     \n",
      "                                                                 \n",
      " activation_17 (Activation)  (None, 57, 57, 64)        0         \n",
      "                                                                 \n",
      " max_pooling2d_12 (MaxPoolin  (None, 28, 28, 64)       0         \n",
      " g2D)                                                            \n",
      "                                                                 \n",
      " conv2d_13 (Conv2D)          (None, 26, 26, 32)        18464     \n",
      "                                                                 \n",
      " activation_18 (Activation)  (None, 26, 26, 32)        0         \n",
      "                                                                 \n",
      " max_pooling2d_13 (MaxPoolin  (None, 13, 13, 32)       0         \n",
      " g2D)                                                            \n",
      "                                                                 \n",
      " flatten_5 (Flatten)         (None, 5408)              0         \n",
      "                                                                 \n",
      " dense_10 (Dense)            (None, 64)                346176    \n",
      "                                                                 \n",
      " dense_11 (Dense)            (None, 1)                 65        \n",
      "                                                                 \n",
      " activation_19 (Activation)  (None, 1)                 0         \n",
      "                                                                 \n",
      "=================================================================\n",
      "Total params: 402,273\n",
      "Trainable params: 402,273\n",
      "Non-trainable params: 0\n",
      "_________________________________________________________________\n"
     ]
    }
   ],
   "source": [
    "model.summary()"
   ]
  },
  {
   "cell_type": "code",
   "execution_count": null,
   "id": "02afe1b0",
   "metadata": {},
   "outputs": [],
   "source": [
    "from tensorflow.keras.callbacks import TensorBoard\n",
    "import time\n",
    "\n",
    "NAME = \"Faces-cnn-64x2-32x1-{}\".format(int(time.time()))\n"
   ]
  }
 ],
 "metadata": {
  "kernelspec": {
   "display_name": "Python 3 (ipykernel)",
   "language": "python",
   "name": "python3"
  },
  "language_info": {
   "codemirror_mode": {
    "name": "ipython",
    "version": 3
   },
   "file_extension": ".py",
   "mimetype": "text/x-python",
   "name": "python",
   "nbconvert_exporter": "python",
   "pygments_lexer": "ipython3",
   "version": "3.8.10"
  }
 },
 "nbformat": 4,
 "nbformat_minor": 5
}
